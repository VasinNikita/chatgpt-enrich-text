{
 "cells": [
  {
   "cell_type": "markdown",
   "id": "0efffd3f",
   "metadata": {},
   "source": [
    "## StirCom model\n",
    "\n",
    "StirCom — это телекоммуникационная компания, которая хочет узнать, с какой вероятностью клиент с теми или иными параметрами согласится на подключение новой услуги"
   ]
  },
  {
   "cell_type": "markdown",
   "id": "34462f72",
   "metadata": {},
   "source": [
    "Импортируем библиотеки\n"
   ]
  },
  {
   "cell_type": "code",
   "execution_count": 82,
   "id": "b3eceb9b",
   "metadata": {},
   "outputs": [],
   "source": [
    "import pandas as pd\n",
    "import numpy as np\n",
    "import os\n",
    "os.environ[\"PATH\"] += os.pathsep + 'C:/Program Files/Graphviz/bin/'"
   ]
  },
  {
   "cell_type": "markdown",
   "id": "0fb61ee2",
   "metadata": {},
   "source": [
    "Отметим, что это задача классификации: она имеет ограниченное количество возможных ответов и, как правило, отвечает на вопрос **«да»** или **«нет»**\n",
    "В соответствии с методологией CRISP-DM опишем задачу и приступим к подготовке данных"
   ]
  },
  {
   "cell_type": "markdown",
   "id": "26b08821",
   "metadata": {},
   "source": [
    "Загружаем данные из файла __stircom.csv__ и формируем DataFrame"
   ]
  },
  {
   "cell_type": "code",
   "execution_count": 83,
   "id": "0ae8e4c0",
   "metadata": {},
   "outputs": [
    {
     "data": {
      "text/html": [
       "<div>\n",
       "<style scoped>\n",
       "    .dataframe tbody tr th:only-of-type {\n",
       "        vertical-align: middle;\n",
       "    }\n",
       "\n",
       "    .dataframe tbody tr th {\n",
       "        vertical-align: top;\n",
       "    }\n",
       "\n",
       "    .dataframe thead th {\n",
       "        text-align: right;\n",
       "    }\n",
       "</style>\n",
       "<table border=\"1\" class=\"dataframe\">\n",
       "  <thead>\n",
       "    <tr style=\"text-align: right;\">\n",
       "      <th></th>\n",
       "      <th>ID</th>\n",
       "      <th>town</th>\n",
       "      <th>country</th>\n",
       "      <th>age</th>\n",
       "      <th>job</th>\n",
       "      <th>married</th>\n",
       "      <th>education</th>\n",
       "      <th>arrears</th>\n",
       "      <th>current_balance</th>\n",
       "      <th>housing</th>\n",
       "      <th>has_tv_package</th>\n",
       "      <th>last_contact</th>\n",
       "      <th>conn_tr</th>\n",
       "      <th>last_contact_this_campaign_day</th>\n",
       "      <th>last_contact_this_campaign_month</th>\n",
       "      <th>this_campaign</th>\n",
       "      <th>days_since_last_contact_previous_campaign</th>\n",
       "      <th>contacted_during_previous_campaign</th>\n",
       "      <th>outcome_previous_campaign</th>\n",
       "      <th>new_contract_this_campaign</th>\n",
       "    </tr>\n",
       "  </thead>\n",
       "  <tbody>\n",
       "    <tr>\n",
       "      <th>0</th>\n",
       "      <td>32390233</td>\n",
       "      <td>Bristol</td>\n",
       "      <td>UK</td>\n",
       "      <td>39</td>\n",
       "      <td>management</td>\n",
       "      <td>married</td>\n",
       "      <td>tertiary</td>\n",
       "      <td>no</td>\n",
       "      <td>-1.90</td>\n",
       "      <td>no</td>\n",
       "      <td>yes</td>\n",
       "      <td>unknown</td>\n",
       "      <td>4</td>\n",
       "      <td>11</td>\n",
       "      <td>jun</td>\n",
       "      <td>8</td>\n",
       "      <td>-1</td>\n",
       "      <td>0</td>\n",
       "      <td>unknown</td>\n",
       "      <td>yes</td>\n",
       "    </tr>\n",
       "    <tr>\n",
       "      <th>1</th>\n",
       "      <td>41226029</td>\n",
       "      <td>Basildon</td>\n",
       "      <td>UK</td>\n",
       "      <td>53</td>\n",
       "      <td>housemaid</td>\n",
       "      <td>married</td>\n",
       "      <td>primary</td>\n",
       "      <td>no</td>\n",
       "      <td>3.62</td>\n",
       "      <td>no</td>\n",
       "      <td>no</td>\n",
       "      <td>cellular</td>\n",
       "      <td>1</td>\n",
       "      <td>28</td>\n",
       "      <td>jul</td>\n",
       "      <td>2</td>\n",
       "      <td>-1</td>\n",
       "      <td>0</td>\n",
       "      <td>unknown</td>\n",
       "      <td>yes</td>\n",
       "    </tr>\n",
       "    <tr>\n",
       "      <th>2</th>\n",
       "      <td>85498057</td>\n",
       "      <td>Blackburn</td>\n",
       "      <td>UK</td>\n",
       "      <td>79</td>\n",
       "      <td>retired</td>\n",
       "      <td>divorced</td>\n",
       "      <td>primary</td>\n",
       "      <td>no</td>\n",
       "      <td>27.87</td>\n",
       "      <td>no</td>\n",
       "      <td>no</td>\n",
       "      <td>telephone</td>\n",
       "      <td>3</td>\n",
       "      <td>13</td>\n",
       "      <td>jul</td>\n",
       "      <td>1</td>\n",
       "      <td>377</td>\n",
       "      <td>1</td>\n",
       "      <td>success</td>\n",
       "      <td>yes</td>\n",
       "    </tr>\n",
       "    <tr>\n",
       "      <th>3</th>\n",
       "      <td>76539627</td>\n",
       "      <td>Oldham</td>\n",
       "      <td>UK</td>\n",
       "      <td>43</td>\n",
       "      <td>services</td>\n",
       "      <td>single</td>\n",
       "      <td>secondary</td>\n",
       "      <td>no</td>\n",
       "      <td>5.50</td>\n",
       "      <td>yes</td>\n",
       "      <td>no</td>\n",
       "      <td>cellular</td>\n",
       "      <td>3</td>\n",
       "      <td>13</td>\n",
       "      <td>may</td>\n",
       "      <td>2</td>\n",
       "      <td>-1</td>\n",
       "      <td>0</td>\n",
       "      <td>unknown</td>\n",
       "      <td>no</td>\n",
       "    </tr>\n",
       "    <tr>\n",
       "      <th>4</th>\n",
       "      <td>76290986</td>\n",
       "      <td>Middlesbrough</td>\n",
       "      <td>UK</td>\n",
       "      <td>35</td>\n",
       "      <td>technician</td>\n",
       "      <td>single</td>\n",
       "      <td>secondary</td>\n",
       "      <td>no</td>\n",
       "      <td>3.44</td>\n",
       "      <td>no</td>\n",
       "      <td>no</td>\n",
       "      <td>cellular</td>\n",
       "      <td>2</td>\n",
       "      <td>27</td>\n",
       "      <td>aug</td>\n",
       "      <td>16</td>\n",
       "      <td>-1</td>\n",
       "      <td>0</td>\n",
       "      <td>unknown</td>\n",
       "      <td>yes</td>\n",
       "    </tr>\n",
       "  </tbody>\n",
       "</table>\n",
       "</div>"
      ],
      "text/plain": [
       "         ID           town country  age         job   married  education  \\\n",
       "0  32390233        Bristol      UK   39  management   married   tertiary   \n",
       "1  41226029       Basildon      UK   53   housemaid   married    primary   \n",
       "2  85498057      Blackburn      UK   79     retired  divorced    primary   \n",
       "3  76539627         Oldham      UK   43    services    single  secondary   \n",
       "4  76290986  Middlesbrough      UK   35  technician    single  secondary   \n",
       "\n",
       "  arrears  current_balance housing has_tv_package last_contact  conn_tr  \\\n",
       "0      no            -1.90      no            yes      unknown        4   \n",
       "1      no             3.62      no             no     cellular        1   \n",
       "2      no            27.87      no             no    telephone        3   \n",
       "3      no             5.50     yes             no     cellular        3   \n",
       "4      no             3.44      no             no     cellular        2   \n",
       "\n",
       "   last_contact_this_campaign_day last_contact_this_campaign_month  \\\n",
       "0                              11                              jun   \n",
       "1                              28                              jul   \n",
       "2                              13                              jul   \n",
       "3                              13                              may   \n",
       "4                              27                              aug   \n",
       "\n",
       "   this_campaign  days_since_last_contact_previous_campaign  \\\n",
       "0              8                                         -1   \n",
       "1              2                                         -1   \n",
       "2              1                                        377   \n",
       "3              2                                         -1   \n",
       "4             16                                         -1   \n",
       "\n",
       "   contacted_during_previous_campaign outcome_previous_campaign  \\\n",
       "0                                   0                   unknown   \n",
       "1                                   0                   unknown   \n",
       "2                                   1                   success   \n",
       "3                                   0                   unknown   \n",
       "4                                   0                   unknown   \n",
       "\n",
       "  new_contract_this_campaign  \n",
       "0                        yes  \n",
       "1                        yes  \n",
       "2                        yes  \n",
       "3                         no  \n",
       "4                        yes  "
      ]
     },
     "execution_count": 83,
     "metadata": {},
     "output_type": "execute_result"
    }
   ],
   "source": [
    "df = pd.read_csv('stircom.csv') # importing stircom.csv and creating dataframe\n",
    "df.head()"
   ]
  },
  {
   "cell_type": "markdown",
   "id": "4b36be23",
   "metadata": {},
   "source": [
    "Отбросим некоторые поля, которые не имеют для нас значения\n",
    "Отметим, что поле country имеет одно значение — UK — поэтому никак не повлияет на итоговый результат принятие клиентом решения о подключении услуги\n",
    "Поле ID не зависит от параметров конкретного клиента, ровно как и его решение подключиться или не подключиться к услуге не зависит от ID "
   ]
  },
  {
   "cell_type": "markdown",
   "id": "0b87c6b9",
   "metadata": {},
   "source": [
    "Приведём некоторые графики, которые помогут нам сделать вывод по поводу датасета"
   ]
  },
  {
   "cell_type": "code",
   "execution_count": 84,
   "id": "76a9037f",
   "metadata": {},
   "outputs": [
    {
     "data": {
      "text/plain": [
       "<AxesSubplot:xlabel='married'>"
      ]
     },
     "execution_count": 84,
     "metadata": {},
     "output_type": "execute_result"
    },
    {
     "data": {
      "image/png": "[encoded data removed]",
      "text/plain": [
       "<Figure size 432x288 with 1 Axes>"
      ]
     },
     "metadata": {
      "needs_background": "light"
     },
     "output_type": "display_data"
    }
   ],
   "source": [
    "d = df.groupby(['married'])['ID'].count().sort_values(ascending=False).head()\n",
    "d.plot.bar()"
   ]
  },
  {
   "cell_type": "code",
   "execution_count": 85,
   "id": "0367b6d9",
   "metadata": {},
   "outputs": [
    {
     "data": {
      "text/plain": [
       "<AxesSubplot:xlabel='job'>"
      ]
     },
     "execution_count": 85,
     "metadata": {},
     "output_type": "execute_result"
    },
    {
     "data": {
      "image/png": "[encoded data removed]",
      "text/plain": [
       "<Figure size 432x288 with 1 Axes>"
      ]
     },
     "metadata": {
      "needs_background": "light"
     },
     "output_type": "display_data"
    }
   ],
   "source": [
    "d = df.groupby(['job'])['ID'].count().sort_values(ascending=False).head()\n",
    "d.plot.bar()"
   ]
  },
  {
   "cell_type": "code",
   "execution_count": 86,
   "id": "1cdb9c13",
   "metadata": {},
   "outputs": [
    {
     "data": {
      "text/plain": [
       "<AxesSubplot:xlabel='education'>"
      ]
     },
     "execution_count": 86,
     "metadata": {},
     "output_type": "execute_result"
    },
    {
     "data": {
      "image/png": "[encoded data removed]",
      "text/plain": [
       "<Figure size 432x288 with 1 Axes>"
      ]
     },
     "metadata": {
      "needs_background": "light"
     },
     "output_type": "display_data"
    }
   ],
   "source": [
    "d = df.groupby(['education'])['ID'].count().sort_values(ascending=False).head()\n",
    "d.plot.bar()"
   ]
  },
  {
   "cell_type": "code",
   "execution_count": 87,
   "id": "fdf9a058",
   "metadata": {},
   "outputs": [
    {
     "data": {
      "text/plain": [
       "<AxesSubplot:xlabel='new_contract_this_campaign'>"
      ]
     },
     "execution_count": 87,
     "metadata": {},
     "output_type": "execute_result"
    },
    {
     "data": {
      "image/png": "[encoded data removed]",
      "text/plain": [
       "<Figure size 432x288 with 1 Axes>"
      ]
     },
     "metadata": {
      "needs_background": "light"
     },
     "output_type": "display_data"
    }
   ],
   "source": [
    "d = df.groupby(['new_contract_this_campaign'])['ID'].count().sort_values(ascending=False).head()\n",
    "d.plot.bar()"
   ]
  },
  {
   "cell_type": "code",
   "execution_count": 88,
   "id": "91f44ebd",
   "metadata": {},
   "outputs": [],
   "source": [
    "df = df.drop(['country', 'ID'], axis=1)"
   ]
  },
  {
   "cell_type": "markdown",
   "id": "85b859b3",
   "metadata": {},
   "source": [
    "Для каждого признака, у которых есть не так много уникальных значений, мы заменим их на числа. Например, has_tv_package принимает значения «yes» или «no». Мы заменим их на 0 и 1 и поступим аналогично с другими подобными столбцами. Там, где уникальных значений больше, чем два, воспользуемся другими числами. Например, для параметра married укажем значения 0, 1 и 2."
   ]
  },
  {
   "cell_type": "code",
   "execution_count": 89,
   "id": "c5291d6b",
   "metadata": {},
   "outputs": [
    {
     "name": "stdout",
     "output_type": "stream",
     "text": [
      "['married' 'divorced' 'single']\n",
      "['no' 'yes']\n",
      "['no' 'yes']\n",
      "['yes' 'no' 'n']\n",
      "['unknown' 'cellular' 'telephone' 'cell']\n",
      "['jun' 'jul' 'may' 'aug' 'sep' 'feb' 'nov' 'mar' 'jan' 'apr' 'dec' 'oct'\n",
      " 'j']\n",
      "['unknown' 'success' 'other' 'failure']\n",
      "['yes' 'no']\n",
      "['tertiary' 'primary' 'secondary' 'unknown']\n",
      "['management' 'housemaid' 'retired' 'services' 'technician' 'student'\n",
      " 'blue-collar' 'self-employed' 'admin.' 'unemployed' 'entrepreneur'\n",
      " 'unknown']\n"
     ]
    }
   ],
   "source": [
    "print(df['married'].unique())\n",
    "print(df['arrears'].unique())\n",
    "print(df['housing'].unique())\n",
    "print(df['has_tv_package'].unique())\n",
    "print(df['last_contact'].unique())\n",
    "print(df['last_contact_this_campaign_month'].unique())\n",
    "print(df['outcome_previous_campaign'].unique())\n",
    "print(df['new_contract_this_campaign'].unique())\n",
    "print(df['education'].unique())\n",
    "print(df['job'].unique())"
   ]
  },
  {
   "cell_type": "markdown",
   "id": "f6b06be1",
   "metadata": {},
   "source": [
    "Чтобы оценить, насколько для нас существенны значения «unknown» в параметрах «job» и «education», оценим, сколько процентов от общего количества они составляют"
   ]
  },
  {
   "cell_type": "code",
   "execution_count": 90,
   "id": "96e5e905",
   "metadata": {},
   "outputs": [
    {
     "name": "stdout",
     "output_type": "stream",
     "text": [
      "Jobs unknown: 0.006494019185977656\n",
      "Education unknown: 0.04135249299277565\n"
     ]
    }
   ],
   "source": [
    "print(\"Jobs unknown: %s\" % (len(df[df['job'] == 'unknown'])/ df['job'].count()))\n",
    "print(\"Education unknown: %s\" % (len(df[df['education'] == 'unknown'])/ df['education'].count()))"
   ]
  },
  {
   "cell_type": "markdown",
   "id": "575aecd7",
   "metadata": {},
   "source": [
    "0.6% и 4.1% — несущественные значения в рамках этой задачи, при этом недостаток информации по поводу работы или образования также может влиять на склонность клиента принимать или не принимать предложение. Отсутствие подобных данных часто говорит о том, что клиент не так активно пользуется услугами «Интернета» (потому что данных по нему нет у компании) и скорее всего не подключится к новому тарифу 5G\n",
    "\n",
    "Заменим указанные выше параметры на числовые выражения"
   ]
  },
  {
   "cell_type": "code",
   "execution_count": 91,
   "id": "3e1c0978",
   "metadata": {},
   "outputs": [
    {
     "data": {
      "text/html": [
       "<div>\n",
       "<style scoped>\n",
       "    .dataframe tbody tr th:only-of-type {\n",
       "        vertical-align: middle;\n",
       "    }\n",
       "\n",
       "    .dataframe tbody tr th {\n",
       "        vertical-align: top;\n",
       "    }\n",
       "\n",
       "    .dataframe thead th {\n",
       "        text-align: right;\n",
       "    }\n",
       "</style>\n",
       "<table border=\"1\" class=\"dataframe\">\n",
       "  <thead>\n",
       "    <tr style=\"text-align: right;\">\n",
       "      <th></th>\n",
       "      <th>town</th>\n",
       "      <th>age</th>\n",
       "      <th>job</th>\n",
       "      <th>married</th>\n",
       "      <th>education</th>\n",
       "      <th>arrears</th>\n",
       "      <th>current_balance</th>\n",
       "      <th>housing</th>\n",
       "      <th>has_tv_package</th>\n",
       "      <th>last_contact</th>\n",
       "      <th>conn_tr</th>\n",
       "      <th>last_contact_this_campaign_day</th>\n",
       "      <th>last_contact_this_campaign_month</th>\n",
       "      <th>this_campaign</th>\n",
       "      <th>days_since_last_contact_previous_campaign</th>\n",
       "      <th>contacted_during_previous_campaign</th>\n",
       "      <th>outcome_previous_campaign</th>\n",
       "      <th>new_contract_this_campaign</th>\n",
       "    </tr>\n",
       "  </thead>\n",
       "  <tbody>\n",
       "    <tr>\n",
       "      <th>0</th>\n",
       "      <td>Bristol</td>\n",
       "      <td>39</td>\n",
       "      <td>4</td>\n",
       "      <td>1</td>\n",
       "      <td>2</td>\n",
       "      <td>0</td>\n",
       "      <td>-1.90</td>\n",
       "      <td>0</td>\n",
       "      <td>1</td>\n",
       "      <td>3</td>\n",
       "      <td>4</td>\n",
       "      <td>11</td>\n",
       "      <td>7</td>\n",
       "      <td>8</td>\n",
       "      <td>-1</td>\n",
       "      <td>0</td>\n",
       "      <td>3</td>\n",
       "      <td>1</td>\n",
       "    </tr>\n",
       "    <tr>\n",
       "      <th>1</th>\n",
       "      <td>Basildon</td>\n",
       "      <td>53</td>\n",
       "      <td>3</td>\n",
       "      <td>1</td>\n",
       "      <td>0</td>\n",
       "      <td>0</td>\n",
       "      <td>3.62</td>\n",
       "      <td>0</td>\n",
       "      <td>0</td>\n",
       "      <td>1</td>\n",
       "      <td>1</td>\n",
       "      <td>28</td>\n",
       "      <td>6</td>\n",
       "      <td>2</td>\n",
       "      <td>-1</td>\n",
       "      <td>0</td>\n",
       "      <td>3</td>\n",
       "      <td>1</td>\n",
       "    </tr>\n",
       "    <tr>\n",
       "      <th>2</th>\n",
       "      <td>Blackburn</td>\n",
       "      <td>79</td>\n",
       "      <td>5</td>\n",
       "      <td>0</td>\n",
       "      <td>0</td>\n",
       "      <td>0</td>\n",
       "      <td>27.87</td>\n",
       "      <td>0</td>\n",
       "      <td>0</td>\n",
       "      <td>2</td>\n",
       "      <td>3</td>\n",
       "      <td>13</td>\n",
       "      <td>6</td>\n",
       "      <td>1</td>\n",
       "      <td>377</td>\n",
       "      <td>1</td>\n",
       "      <td>2</td>\n",
       "      <td>1</td>\n",
       "    </tr>\n",
       "    <tr>\n",
       "      <th>3</th>\n",
       "      <td>Oldham</td>\n",
       "      <td>43</td>\n",
       "      <td>7</td>\n",
       "      <td>2</td>\n",
       "      <td>1</td>\n",
       "      <td>0</td>\n",
       "      <td>5.50</td>\n",
       "      <td>1</td>\n",
       "      <td>0</td>\n",
       "      <td>1</td>\n",
       "      <td>3</td>\n",
       "      <td>13</td>\n",
       "      <td>9</td>\n",
       "      <td>2</td>\n",
       "      <td>-1</td>\n",
       "      <td>0</td>\n",
       "      <td>3</td>\n",
       "      <td>0</td>\n",
       "    </tr>\n",
       "    <tr>\n",
       "      <th>4</th>\n",
       "      <td>Middlesbrough</td>\n",
       "      <td>35</td>\n",
       "      <td>9</td>\n",
       "      <td>2</td>\n",
       "      <td>1</td>\n",
       "      <td>0</td>\n",
       "      <td>3.44</td>\n",
       "      <td>0</td>\n",
       "      <td>0</td>\n",
       "      <td>1</td>\n",
       "      <td>2</td>\n",
       "      <td>27</td>\n",
       "      <td>1</td>\n",
       "      <td>16</td>\n",
       "      <td>-1</td>\n",
       "      <td>0</td>\n",
       "      <td>3</td>\n",
       "      <td>1</td>\n",
       "    </tr>\n",
       "  </tbody>\n",
       "</table>\n",
       "</div>"
      ],
      "text/plain": [
       "            town  age  job  married  education  arrears  current_balance  \\\n",
       "0        Bristol   39    4        1          2        0            -1.90   \n",
       "1       Basildon   53    3        1          0        0             3.62   \n",
       "2      Blackburn   79    5        0          0        0            27.87   \n",
       "3         Oldham   43    7        2          1        0             5.50   \n",
       "4  Middlesbrough   35    9        2          1        0             3.44   \n",
       "\n",
       "   housing  has_tv_package  last_contact  conn_tr  \\\n",
       "0        0               1             3        4   \n",
       "1        0               0             1        1   \n",
       "2        0               0             2        3   \n",
       "3        1               0             1        3   \n",
       "4        0               0             1        2   \n",
       "\n",
       "   last_contact_this_campaign_day  last_contact_this_campaign_month  \\\n",
       "0                              11                                 7   \n",
       "1                              28                                 6   \n",
       "2                              13                                 6   \n",
       "3                              13                                 9   \n",
       "4                              27                                 1   \n",
       "\n",
       "   this_campaign  days_since_last_contact_previous_campaign  \\\n",
       "0              8                                         -1   \n",
       "1              2                                         -1   \n",
       "2              1                                        377   \n",
       "3              2                                         -1   \n",
       "4             16                                         -1   \n",
       "\n",
       "   contacted_during_previous_campaign  outcome_previous_campaign  \\\n",
       "0                                   0                          3   \n",
       "1                                   0                          3   \n",
       "2                                   1                          2   \n",
       "3                                   0                          3   \n",
       "4                                   0                          3   \n",
       "\n",
       "   new_contract_this_campaign  \n",
       "0                           1  \n",
       "1                           1  \n",
       "2                           1  \n",
       "3                           0  \n",
       "4                           1  "
      ]
     },
     "execution_count": 91,
     "metadata": {},
     "output_type": "execute_result"
    }
   ],
   "source": [
    "df['has_tv_package'] = df['has_tv_package'].replace({'n':'no'})\n",
    "\n",
    "columns = ['married', 'arrears', 'housing', 'has_tv_package', 'last_contact', 'last_contact_this_campaign_month', 'outcome_previous_campaign', 'new_contract_this_campaign', 'education', 'job']\n",
    "\n",
    "for column in columns:\n",
    "    df[column] = df[column].astype('category')\n",
    "    df[column] = df[column].cat.codes\n",
    "    \n",
    "df.head()"
   ]
  },
  {
   "cell_type": "markdown",
   "id": "6c1bf2d2",
   "metadata": {},
   "source": [
    "Остаться разобраться с городами. Их достаточно много, поэтому, с одной стороны, просчитывание в качество category нам не подойдёт. Но мы идём на этот шаг, потому что нам очень важно оставить только числовые значения. Модель будет принимать решение также на основании уникального идентификатора города."
   ]
  },
  {
   "cell_type": "code",
   "execution_count": 92,
   "id": "63f906d3",
   "metadata": {},
   "outputs": [
    {
     "data": {
      "text/html": [
       "<div>\n",
       "<style scoped>\n",
       "    .dataframe tbody tr th:only-of-type {\n",
       "        vertical-align: middle;\n",
       "    }\n",
       "\n",
       "    .dataframe tbody tr th {\n",
       "        vertical-align: top;\n",
       "    }\n",
       "\n",
       "    .dataframe thead th {\n",
       "        text-align: right;\n",
       "    }\n",
       "</style>\n",
       "<table border=\"1\" class=\"dataframe\">\n",
       "  <thead>\n",
       "    <tr style=\"text-align: right;\">\n",
       "      <th></th>\n",
       "      <th>town</th>\n",
       "      <th>age</th>\n",
       "      <th>job</th>\n",
       "      <th>married</th>\n",
       "      <th>education</th>\n",
       "      <th>arrears</th>\n",
       "      <th>current_balance</th>\n",
       "      <th>housing</th>\n",
       "      <th>has_tv_package</th>\n",
       "      <th>last_contact</th>\n",
       "      <th>conn_tr</th>\n",
       "      <th>last_contact_this_campaign_day</th>\n",
       "      <th>last_contact_this_campaign_month</th>\n",
       "      <th>this_campaign</th>\n",
       "      <th>days_since_last_contact_previous_campaign</th>\n",
       "      <th>contacted_during_previous_campaign</th>\n",
       "      <th>outcome_previous_campaign</th>\n",
       "      <th>new_contract_this_campaign</th>\n",
       "    </tr>\n",
       "  </thead>\n",
       "  <tbody>\n",
       "    <tr>\n",
       "      <th>0</th>\n",
       "      <td>15</td>\n",
       "      <td>39</td>\n",
       "      <td>4</td>\n",
       "      <td>1</td>\n",
       "      <td>2</td>\n",
       "      <td>0</td>\n",
       "      <td>-1.90</td>\n",
       "      <td>0</td>\n",
       "      <td>1</td>\n",
       "      <td>3</td>\n",
       "      <td>4</td>\n",
       "      <td>11</td>\n",
       "      <td>7</td>\n",
       "      <td>8</td>\n",
       "      <td>-1</td>\n",
       "      <td>0</td>\n",
       "      <td>3</td>\n",
       "      <td>1</td>\n",
       "    </tr>\n",
       "    <tr>\n",
       "      <th>1</th>\n",
       "      <td>2</td>\n",
       "      <td>53</td>\n",
       "      <td>3</td>\n",
       "      <td>1</td>\n",
       "      <td>0</td>\n",
       "      <td>0</td>\n",
       "      <td>3.62</td>\n",
       "      <td>0</td>\n",
       "      <td>0</td>\n",
       "      <td>1</td>\n",
       "      <td>1</td>\n",
       "      <td>28</td>\n",
       "      <td>6</td>\n",
       "      <td>2</td>\n",
       "      <td>-1</td>\n",
       "      <td>0</td>\n",
       "      <td>3</td>\n",
       "      <td>1</td>\n",
       "    </tr>\n",
       "    <tr>\n",
       "      <th>2</th>\n",
       "      <td>9</td>\n",
       "      <td>79</td>\n",
       "      <td>5</td>\n",
       "      <td>0</td>\n",
       "      <td>0</td>\n",
       "      <td>0</td>\n",
       "      <td>27.87</td>\n",
       "      <td>0</td>\n",
       "      <td>0</td>\n",
       "      <td>2</td>\n",
       "      <td>3</td>\n",
       "      <td>13</td>\n",
       "      <td>6</td>\n",
       "      <td>1</td>\n",
       "      <td>377</td>\n",
       "      <td>1</td>\n",
       "      <td>2</td>\n",
       "      <td>1</td>\n",
       "    </tr>\n",
       "    <tr>\n",
       "      <th>3</th>\n",
       "      <td>62</td>\n",
       "      <td>43</td>\n",
       "      <td>7</td>\n",
       "      <td>2</td>\n",
       "      <td>1</td>\n",
       "      <td>0</td>\n",
       "      <td>5.50</td>\n",
       "      <td>1</td>\n",
       "      <td>0</td>\n",
       "      <td>1</td>\n",
       "      <td>3</td>\n",
       "      <td>13</td>\n",
       "      <td>9</td>\n",
       "      <td>2</td>\n",
       "      <td>-1</td>\n",
       "      <td>0</td>\n",
       "      <td>3</td>\n",
       "      <td>0</td>\n",
       "    </tr>\n",
       "    <tr>\n",
       "      <th>4</th>\n",
       "      <td>54</td>\n",
       "      <td>35</td>\n",
       "      <td>9</td>\n",
       "      <td>2</td>\n",
       "      <td>1</td>\n",
       "      <td>0</td>\n",
       "      <td>3.44</td>\n",
       "      <td>0</td>\n",
       "      <td>0</td>\n",
       "      <td>1</td>\n",
       "      <td>2</td>\n",
       "      <td>27</td>\n",
       "      <td>1</td>\n",
       "      <td>16</td>\n",
       "      <td>-1</td>\n",
       "      <td>0</td>\n",
       "      <td>3</td>\n",
       "      <td>1</td>\n",
       "    </tr>\n",
       "  </tbody>\n",
       "</table>\n",
       "</div>"
      ],
      "text/plain": [
       "   town  age  job  married  education  arrears  current_balance  housing  \\\n",
       "0    15   39    4        1          2        0            -1.90        0   \n",
       "1     2   53    3        1          0        0             3.62        0   \n",
       "2     9   79    5        0          0        0            27.87        0   \n",
       "3    62   43    7        2          1        0             5.50        1   \n",
       "4    54   35    9        2          1        0             3.44        0   \n",
       "\n",
       "   has_tv_package  last_contact  conn_tr  last_contact_this_campaign_day  \\\n",
       "0               1             3        4                              11   \n",
       "1               0             1        1                              28   \n",
       "2               0             2        3                              13   \n",
       "3               0             1        3                              13   \n",
       "4               0             1        2                              27   \n",
       "\n",
       "   last_contact_this_campaign_month  this_campaign  \\\n",
       "0                                 7              8   \n",
       "1                                 6              2   \n",
       "2                                 6              1   \n",
       "3                                 9              2   \n",
       "4                                 1             16   \n",
       "\n",
       "   days_since_last_contact_previous_campaign  \\\n",
       "0                                         -1   \n",
       "1                                         -1   \n",
       "2                                        377   \n",
       "3                                         -1   \n",
       "4                                         -1   \n",
       "\n",
       "   contacted_during_previous_campaign  outcome_previous_campaign  \\\n",
       "0                                   0                          3   \n",
       "1                                   0                          3   \n",
       "2                                   1                          2   \n",
       "3                                   0                          3   \n",
       "4                                   0                          3   \n",
       "\n",
       "   new_contract_this_campaign  \n",
       "0                           1  \n",
       "1                           1  \n",
       "2                           1  \n",
       "3                           0  \n",
       "4                           1  "
      ]
     },
     "execution_count": 92,
     "metadata": {},
     "output_type": "execute_result"
    }
   ],
   "source": [
    "column = 'town'\n",
    "\n",
    "df[column] = df[column].astype('category')\n",
    "df[column] = df[column].cat.codes\n",
    "\n",
    "df.head()"
   ]
  },
  {
   "cell_type": "markdown",
   "id": "78aceeb0",
   "metadata": {},
   "source": [
    "Предобработка данных завершена. Приступаем к моделированию.\n",
    "\n",
    "Разделяем выборку на x и y — на названия и значения"
   ]
  },
  {
   "cell_type": "code",
   "execution_count": 113,
   "id": "3d1716ee",
   "metadata": {},
   "outputs": [],
   "source": [
    "x_original = df\n",
    "x = x_original\n",
    "\n",
    "x = x.drop(['new_contract_this_campaign'], axis=1)\n",
    "y = x_original['new_contract_this_campaign']"
   ]
  },
  {
   "cell_type": "code",
   "execution_count": 114,
   "id": "99c3e56c",
   "metadata": {},
   "outputs": [
    {
     "data": {
      "text/plain": [
       "town                                         0\n",
       "age                                          0\n",
       "job                                          0\n",
       "married                                      0\n",
       "education                                    0\n",
       "arrears                                      0\n",
       "current_balance                              0\n",
       "housing                                      0\n",
       "has_tv_package                               0\n",
       "last_contact                                 0\n",
       "conn_tr                                      0\n",
       "last_contact_this_campaign_day               0\n",
       "last_contact_this_campaign_month             0\n",
       "this_campaign                                0\n",
       "days_since_last_contact_previous_campaign    0\n",
       "contacted_during_previous_campaign           0\n",
       "outcome_previous_campaign                    0\n",
       "dtype: int64"
      ]
     },
     "execution_count": 114,
     "metadata": {},
     "output_type": "execute_result"
    }
   ],
   "source": [
    "x.isnull().sum()"
   ]
  },
  {
   "cell_type": "markdown",
   "id": "b250dda7",
   "metadata": {},
   "source": [
    "Разделяем выборку на обучающую и тестовую в пропорции 3.33:1"
   ]
  },
  {
   "cell_type": "code",
   "execution_count": 115,
   "id": "605da38b",
   "metadata": {},
   "outputs": [],
   "source": [
    "from sklearn.model_selection import train_test_split\n",
    "\n",
    "x_train, x_test, y_train, y_test = train_test_split(x, y, test_size=0.3, random_state = 42)"
   ]
  },
  {
   "cell_type": "code",
   "execution_count": 116,
   "id": "77e3e7ed",
   "metadata": {},
   "outputs": [
    {
     "data": {
      "text/plain": [
       "35463"
      ]
     },
     "execution_count": 116,
     "metadata": {},
     "output_type": "execute_result"
    }
   ],
   "source": [
    "len(x_train)"
   ]
  },
  {
   "cell_type": "code",
   "execution_count": 117,
   "id": "1bf2b615",
   "metadata": {},
   "outputs": [
    {
     "data": {
      "text/plain": [
       "15199"
      ]
     },
     "execution_count": 117,
     "metadata": {},
     "output_type": "execute_result"
    }
   ],
   "source": [
    "len(x_test)"
   ]
  },
  {
   "cell_type": "markdown",
   "id": "0adce056",
   "metadata": {},
   "source": [
    "Создаём новую модель классификации"
   ]
  },
  {
   "cell_type": "code",
   "execution_count": 122,
   "id": "f9704acd",
   "metadata": {},
   "outputs": [
    {
     "data": {
      "text/plain": [
       "DecisionTreeClassifier(max_depth=5)"
      ]
     },
     "execution_count": 122,
     "metadata": {},
     "output_type": "execute_result"
    }
   ],
   "source": [
    "from sklearn.tree import DecisionTreeClassifier\n",
    "model_tree = DecisionTreeClassifier(max_depth=5)\n",
    "model_tree.fit(x_train, y_train)"
   ]
  },
  {
   "cell_type": "markdown",
   "id": "ec60abdf",
   "metadata": {},
   "source": [
    "Создаём графическую визуализацию дерева и сохраняем её в файле tree.png"
   ]
  },
  {
   "cell_type": "code",
   "execution_count": 123,
   "id": "c0555ca4",
   "metadata": {},
   "outputs": [],
   "source": [
    "def get_grid(data):\n",
    "    x_min, x_max = data[:, 0].min() - 1, data[:, 0].max() + 1\n",
    "    y_min, y_max = data[:, 1].min() - 1, data[:, 1].max() + 1\n",
    "    return np.meshgrid(np.arange(x_min, x_max, 0.01), np.arange(y_min, y_max, 0.01))\n",
    "\n",
    "from sklearn.tree import export_graphviz\n",
    "export_graphviz(model_tree, feature_names=\"town\tage\tjob\tmarried\teducation\tarrears\tcurrent_balance\thousing\thas_tv_package\tlast_contact\tconn_tr\tlast_contact_this_campaign_day\tlast_contact_this_campaign_month\tthis_campaign\tdays_since_last_contact_previous_campaign\tcontacted_during_previous_campaign\toutcome_previous_campaign\".split(\"\\t\"), out_file = 'tree.dot', filled=True)\n",
    "\n",
    "!dot -Tpng \"tree.dot\" -o \"tree.png\""
   ]
  },
  {
   "cell_type": "markdown",
   "id": "851b3527",
   "metadata": {},
   "source": [
    "Проверяем качество модели на тестовых данных и выводим очки"
   ]
  },
  {
   "cell_type": "code",
   "execution_count": 120,
   "id": "1e2f91d0",
   "metadata": {},
   "outputs": [],
   "source": [
    "y_predict = model_tree.predict(x_test)"
   ]
  },
  {
   "cell_type": "code",
   "execution_count": 140,
   "id": "b76032fc",
   "metadata": {},
   "outputs": [
    {
     "name": "stdout",
     "output_type": "stream",
     "text": [
      "0.8336074741759326\n"
     ]
    }
   ],
   "source": [
    "from sklearn.metrics import accuracy_score\n",
    "print(accuracy_score(y_test, y_predict))"
   ]
  },
  {
   "cell_type": "markdown",
   "id": "213e6c41",
   "metadata": {},
   "source": [
    "Display confusion matrix"
   ]
  },
  {
   "cell_type": "code",
   "execution_count": 149,
   "id": "69fe4403",
   "metadata": {},
   "outputs": [
    {
     "data": {
      "text/plain": [
       "<sklearn.metrics._plot.confusion_matrix.ConfusionMatrixDisplay at 0x279ef8d2250>"
      ]
     },
     "execution_count": 149,
     "metadata": {},
     "output_type": "execute_result"
    },
    {
     "data": {
      "image/png": "[encoded data removed]",
      "text/plain": [
       "<Figure size 432x288 with 2 Axes>"
      ]
     },
     "metadata": {
      "needs_background": "light"
     },
     "output_type": "display_data"
    }
   ],
   "source": [
    "from sklearn.metrics import ConfusionMatrixDisplay\n",
    "ConfusionMatrixDisplay.from_predictions(y_test, y_predict)"
   ]
  },
  {
   "cell_type": "code",
   "execution_count": 163,
   "id": "44c4dc00",
   "metadata": {},
   "outputs": [
    {
     "data": {
      "image/png": "[encoded data removed]",
      "text/plain": [
       "<Figure size 432x288 with 1 Axes>"
      ]
     },
     "metadata": {
      "needs_background": "light"
     },
     "output_type": "display_data"
    }
   ],
   "source": [
    "import numpy as np\n",
    "import matplotlib.pyplot as plt\n",
    "from itertools import cycle\n",
    "\n",
    "from sklearn import svm, datasets\n",
    "from sklearn.metrics import roc_curve, auc\n",
    "from sklearn.model_selection import train_test_split\n",
    "from sklearn.preprocessing import label_binarize\n",
    "from sklearn.multiclass import OneVsRestClassifier\n",
    "from sklearn.metrics import roc_auc_score\n",
    "\n",
    "\n",
    "fpr = dict()\n",
    "tpr = dict()\n",
    "roc_auc = dict()\n",
    "fpr[0], tpr[0], _ = roc_curve(y_test, y_predict)\n",
    "roc_auc[0] = auc(fpr[0], tpr[0])\n",
    "\n",
    "# Compute micro-average ROC curve and ROC area\n",
    "fpr[\"micro\"], tpr[\"micro\"], _ = roc_curve(y_test.ravel(), y_predict.ravel())\n",
    "roc_auc[\"micro\"] = auc(fpr[\"micro\"], tpr[\"micro\"])\n",
    "\n",
    "plt.figure()\n",
    "lw = 2\n",
    "plt.plot(\n",
    "    fpr[0],\n",
    "    tpr[0],\n",
    "    color=\"darkorange\",\n",
    "    lw=lw,\n",
    "    label=\"ROC curve (area = %0.2f)\" % roc_auc[0],\n",
    ")\n",
    "plt.plot([0, 1], [0, 1], color=\"navy\", lw=lw, linestyle=\"--\")\n",
    "plt.xlim([0.0, 1.0])\n",
    "plt.ylim([0.0, 1.05])\n",
    "plt.xlabel(\"False Positive Rate\")\n",
    "plt.ylabel(\"True Positive Rate\")\n",
    "plt.title(\"ROC curve\")\n",
    "plt.legend(loc=\"lower right\")\n",
    "plt.show()"
   ]
  },
  {
   "cell_type": "code",
   "execution_count": null,
   "id": "ff88c597",
   "metadata": {},
   "outputs": [],
   "source": []
  },
  {
   "cell_type": "code",
   "execution_count": null,
   "id": "bfdc4d1b",
   "metadata": {},
   "outputs": [],
   "source": []
  },
  {
   "cell_type": "code",
   "execution_count": null,
   "id": "d0c231b6",
   "metadata": {},
   "outputs": [],
   "source": []
  },
  {
   "cell_type": "code",
   "execution_count": null,
   "id": "af2b0de4",
   "metadata": {},
   "outputs": [],
   "source": []
  },
  {
   "cell_type": "code",
   "execution_count": null,
   "id": "9d306237",
   "metadata": {},
   "outputs": [],
   "source": []
  },
  {
   "cell_type": "code",
   "execution_count": null,
   "id": "4e4c2d04",
   "metadata": {},
   "outputs": [],
   "source": []
  },
  {
   "cell_type": "code",
   "execution_count": null,
   "id": "3b48b235",
   "metadata": {},
   "outputs": [],
   "source": []
  },
  {
   "cell_type": "code",
   "execution_count": null,
   "id": "860fa469",
   "metadata": {},
   "outputs": [],
   "source": []
  }
 ],
 "metadata": {
  "kernelspec": {
   "display_name": "Python 3 (ipykernel)",
   "language": "python",
   "name": "python3"
  },
  "language_info": {
   "codemirror_mode": {
    "name": "ipython",
    "version": 3
   },
   "file_extension": ".py",
   "mimetype": "text/x-python",
   "name": "python",
   "nbconvert_exporter": "python",
   "pygments_lexer": "ipython3",
   "version": "3.9.5"
  }
 },
 "nbformat": 4,
 "nbformat_minor": 5
}
