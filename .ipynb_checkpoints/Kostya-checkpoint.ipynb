{
 "cells": [
  {
   "cell_type": "markdown",
   "id": "69b3d8b5",
   "metadata": {},
   "source": [
    "## A. Car\n",
    "1. Создать класс Car с атрибутами make, model и year. Создать объект класса и назначить атрибуты.\n",
    "2. Добавьте в класс Car метод start, который выведет в консоль «Запуск автомобиля». Вызвать метод для объекта, который был создан.\n",
    "3. Создать подкласс Car с именем ElectricCar. Добавить в этот класс новый атрибут под названием battery_size.\n",
    "4. Переопределить метод start в ElectricCar, чтобы он печатал «Запуск электромобиля».\n",
    "\n"
   ]
  },
  {
   "cell_type": "code",
   "execution_count": 20,
   "id": "1d6fa6e1",
   "metadata": {},
   "outputs": [
    {
     "name": "stdout",
     "output_type": "stream",
     "text": [
      "Запуск автомобиля\n",
      "Запуск электромобиля\n"
     ]
    }
   ],
   "source": [
    "class Car:\n",
    "    def __init__(self, make, model, year):\n",
    "        self.make = make\n",
    "        self.model = model\n",
    "        self.year = year\n",
    "        \n",
    "    def start(self):\n",
    "        print(\"Запуск автомобиля\")\n",
    "\n",
    "# Создание объекта класса Car и назначение атрибутов\n",
    "my_car = Car(\"Tesla\", \"Model S\", 2020)\n",
    "my_car.start()  # Вывод: Запуск автомобиля\n",
    "\n",
    "class ElectricCar(Car):\n",
    "    def __init__(self, make, model, year, battery_size):\n",
    "        super().__init__(make, model, year)\n",
    "        self.battery_size = battery_size\n",
    "\n",
    "    def start(self):\n",
    "        print(\"Запуск электромобиля\")\n",
    "\n",
    "# Создание объекта класса ElectricCar и назначение атрибутов\n",
    "my_electric_car = ElectricCar(\"Tesla\", \"Model 3\", 2021, 75)\n",
    "my_electric_car.start()  # Вывод: Запуск электромобиля\n"
   ]
  },
  {
   "cell_type": "markdown",
   "id": "904102c5",
   "metadata": {},
   "source": [
    "## B. Dog\n",
    "1. Создать класс Dog с такими атрибутами name, age и breed. Добавить в класс метод bark, который выведет «Гав-гав!».\n",
    "2. Создать объект класса Dog и задать его атрибуты. Вызовите метод bark для объекта.\n",
    "3. Создайть подкласс Dog с именем Poodle. Переопределить метод bark в Poodle, чтобы он выводил «Йоу-Йоу!» вместо «Гав-гав!»."
   ]
  },
  {
   "cell_type": "code",
   "execution_count": 21,
   "id": "00167f67",
   "metadata": {},
   "outputs": [
    {
     "name": "stdout",
     "output_type": "stream",
     "text": [
      "Гав-гав!\n",
      "Йоу-Йоу!\n"
     ]
    }
   ],
   "source": [
    "class Dog:\n",
    "    def __init__(self, name, age, breed):\n",
    "        self.name = name\n",
    "        self.age = age\n",
    "        self.breed = breed\n",
    "\n",
    "    def bark(self):\n",
    "        print(\"Гав-гав!\")\n",
    "\n",
    "# Создание объекта класса Dog и назначение атрибутов\n",
    "my_dog = Dog(\"Бобик\", 3, \"Бульдог\")\n",
    "my_dog.bark()  # Вывод: Гав-гав!\n",
    "\n",
    "class Poodle(Dog):\n",
    "    def bark(self):\n",
    "        print(\"Йоу-Йоу!\")\n",
    "\n",
    "# Создание объекта класса Poodle и назначение атрибутов\n",
    "my_poodle = Poodle(\"Шарик\", 2, \"Пудель\")\n",
    "my_poodle.bark()  # Вывод: Йоу-Йоу!\n"
   ]
  },
  {
   "cell_type": "markdown",
   "id": "21fe68ab",
   "metadata": {},
   "source": [
    "## C. BankAccount\n",
    "1. Создать класс BankAccount с такими атрибутами, как balance и account_number.\n",
    "Добавить методы в класс с именем deposit и remove, которые прибавляют или\n",
    "вычитают из атрибута balance.\n",
    "2. Создать объект класса BankAccount и задать его атрибуты. Вызовать методы\n",
    "deposit и withdraw на объекте, чтобы обновить его balance.\n",
    "3. Создайте подкласс BankAccount с именем SavingsAccount. Добавьте в этот класс новый атрибут с именем interest_fee. Переопределите метод withdraw в SavingsAccount, чтобы он вычитал interest_fee, если остаток на счете становится меньше определенной суммы."
   ]
  },
  {
   "cell_type": "code",
   "execution_count": 22,
   "id": "e8e5fe42",
   "metadata": {},
   "outputs": [
    {
     "name": "stdout",
     "output_type": "stream",
     "text": [
      "1100\n",
      "375\n"
     ]
    }
   ],
   "source": [
    "class BankAccount:\n",
    "    def __init__(self, balance, account_number):\n",
    "        self.balance = balance\n",
    "        self.account_number = account_number\n",
    "\n",
    "    def deposit(self, amount):\n",
    "        self.balance += amount\n",
    "\n",
    "    def withdraw(self, amount):\n",
    "        self.balance -= amount\n",
    "\n",
    "# Создание объекта класса BankAccount и назначение атрибутов\n",
    "my_account = BankAccount(1000, \"12345678\")\n",
    "my_account.deposit(200)  # Увеличиваем баланс на 200\n",
    "my_account.withdraw(100)  # Уменьшаем баланс на 100\n",
    "print(my_account.balance)  # Вывод: 1100\n",
    "\n",
    "class SavingsAccount(BankAccount):\n",
    "    def __init__(self, balance, account_number, interest_fee):\n",
    "        super().__init__(balance, account_number)\n",
    "        self.interest_fee = interest_fee\n",
    "\n",
    "    def withdraw(self, amount):\n",
    "        new_balance = self.balance - amount\n",
    "        if new_balance < 500:  # Задаем условие, при котором снимается interest_fee\n",
    "            self.balance = new_balance - self.interest_fee\n",
    "        else:\n",
    "            self.balance = new_balance\n",
    "\n",
    "# Создание объекта класса SavingsAccount и назначение атрибутов\n",
    "my_savings_account = SavingsAccount(1000, \"87654321\", 25)\n",
    "my_savings_account.deposit(200)  # Увеличиваем баланс на 200\n",
    "my_savings_account.withdraw(800)  # Уменьшаем баланс на 800, баланс станет меньше 500, снимаем interest_fee\n",
    "print(my_savings_account.balance)  # Вывод: 375\n"
   ]
  },
  {
   "cell_type": "markdown",
   "id": "9aaec0ed",
   "metadata": {},
   "source": [
    "## D. Таблица умножения\n",
    "С помощью вложенных циклов сделать таблицу умножения для чисел с 1 по 10\n"
   ]
  },
  {
   "cell_type": "code",
   "execution_count": 32,
   "id": "610161ad",
   "metadata": {},
   "outputs": [
    {
     "name": "stdout",
     "output_type": "stream",
     "text": [
      "1 * 2 = 2\t1 * 3 = 3\t1 * 4 = 4\t1 * 5 = 5\t1 * 6 = 6\t1 * 7 = 7\t1 * 8 = 8\n",
      "2 * 2 = 4\t2 * 3 = 6\t2 * 4 = 8\t2 * 5 = 10\t2 * 6 = 12\t2 * 7 = 14\t2 * 8 = 16\n",
      "3 * 2 = 6\t3 * 3 = 9\t3 * 4 = 12\t3 * 5 = 15\t3 * 6 = 18\t3 * 7 = 21\t3 * 8 = 24\n",
      "4 * 2 = 8\t4 * 3 = 12\t4 * 4 = 16\t4 * 5 = 20\t4 * 6 = 24\t4 * 7 = 28\t4 * 8 = 32\n",
      "5 * 2 = 10\t5 * 3 = 15\t5 * 4 = 20\t5 * 5 = 25\t5 * 6 = 30\t5 * 7 = 35\t5 * 8 = 40\n",
      "6 * 2 = 12\t6 * 3 = 18\t6 * 4 = 24\t6 * 5 = 30\t6 * 6 = 36\t6 * 7 = 42\t6 * 8 = 48\n",
      "7 * 2 = 14\t7 * 3 = 21\t7 * 4 = 28\t7 * 5 = 35\t7 * 6 = 42\t7 * 7 = 49\t7 * 8 = 56\n",
      "8 * 2 = 16\t8 * 3 = 24\t8 * 4 = 32\t8 * 5 = 40\t8 * 6 = 48\t8 * 7 = 56\t8 * 8 = 64\n",
      "9 * 2 = 18\t9 * 3 = 27\t9 * 4 = 36\t9 * 5 = 45\t9 * 6 = 54\t9 * 7 = 63\t9 * 8 = 72\n"
     ]
    }
   ],
   "source": [
    "print(\"\\n\".join([\"\\t\".join([f\"{i} * {j} = {i * j}\" for j in range(2, 9)]) for i in range(1, 10)]))\n"
   ]
  },
  {
   "cell_type": "markdown",
   "id": "ed4827c0",
   "metadata": {},
   "source": [
    "## E. Вложенный цикл\n",
    "1. Сделать программу для вывода пирамидки в консоль используя вложенные циклы\n",
    "2. С помощью вложенных циклов написать программу, которая будет принимать n как натуральное число и выведет n-строк с формате:\n",
    "\n",
    "1\n",
    "12\n",
    "12 3\n",
    "12 34\n",
    "12 34 ... n"
   ]
  },
  {
   "cell_type": "code",
   "execution_count": 37,
   "id": "2500fbab",
   "metadata": {},
   "outputs": [
    {
     "name": "stdout",
     "output_type": "stream",
     "text": [
      "Введите число N - высоту пирамидки: 10\n",
      "         *\n",
      "        ***\n",
      "       *****\n",
      "      *******\n",
      "     *********\n",
      "    ***********\n",
      "   *************\n",
      "  ***************\n",
      " *****************\n",
      "*******************\n"
     ]
    }
   ],
   "source": [
    "n = int(input(\"Введите число N - высоту пирамидки: \"))\n",
    "print(\"\\n\".join([\" \" * (n - i) + \"*\" * (2 * i - 1) for i in range(1, n + 1)]))"
   ]
  },
  {
   "cell_type": "code",
   "execution_count": 39,
   "id": "8719f4cf",
   "metadata": {},
   "outputs": [
    {
     "name": "stdout",
     "output_type": "stream",
     "text": [
      "Введите натуральное число n: 10\n",
      "1\n",
      "12 \n",
      "12 3\n",
      "12 34 \n",
      "12 34 5\n",
      "12 34 56 \n",
      "12 34 56 7\n",
      "12 34 56 78 \n",
      "12 34 56 78 9\n",
      "12 34 56 78 910 \n"
     ]
    }
   ],
   "source": [
    "n = int(input(\"Введите натуральное число n: \"))\n",
    "print(\"\\n\".join([\"\".join([str(j) if j % 2 == 1 else f\"{j} \" for j in range(1, i + 1)]) for i in range(1, n + 1)]))"
   ]
  }
 ],
 "metadata": {
  "kernelspec": {
   "display_name": "Python 3 (ipykernel)",
   "language": "python",
   "name": "python3"
  },
  "language_info": {
   "codemirror_mode": {
    "name": "ipython",
    "version": 3
   },
   "file_extension": ".py",
   "mimetype": "text/x-python",
   "name": "python",
   "nbconvert_exporter": "python",
   "pygments_lexer": "ipython3",
   "version": "3.11.0"
  }
 },
 "nbformat": 4,
 "nbformat_minor": 5
}
